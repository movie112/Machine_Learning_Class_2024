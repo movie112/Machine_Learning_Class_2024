{
 "cells": [
  {
   "cell_type": "markdown",
   "metadata": {},
   "source": [
    "# ROC curve"
   ]
  },
  {
   "cell_type": "markdown",
   "metadata": {},
   "source": [
    "## import library"
   ]
  },
  {
   "cell_type": "code",
   "execution_count": 1,
   "metadata": {},
   "outputs": [],
   "source": [
    "%matplotlib inline\n",
    "import numpy as np\n",
    "import matplotlib.pyplot as plt\n",
    "import matplotlib.colors as colors\n",
    "import time                                                \n",
    "import util_solution as util"
   ]
  },
  {
   "cell_type": "markdown",
   "metadata": {},
   "source": [
    "## load training data"
   ]
  },
  {
   "cell_type": "code",
   "execution_count": 2,
   "metadata": {},
   "outputs": [],
   "source": [
    "fname_data  = '10_data.csv'\n",
    "data        = np.genfromtxt(fname_data, delimiter=',')\n",
    "num_data    = data.shape[0]\n",
    "\n",
    "x       = np.zeros(num_data)\n",
    "y       = np.zeros(num_data)\n",
    "label   = np.zeros(num_data)\n",
    "\n",
    "for i in range(num_data):\n",
    "    x[i]        = data[i,0]\n",
    "    y[i]        = data[i,1]\n",
    "    label[i]    = 1-data[i,2]\n",
    "\n",
    "x = np.reshape(x, (num_data, 1))\n",
    "y = np.reshape(y, (num_data, 1))\n",
    "label = np.reshape(label, (num_data, 1))"
   ]
  },
  {
   "cell_type": "markdown",
   "metadata": {},
   "source": [
    "## plot the data"
   ]
  },
  {
   "cell_type": "code",
   "execution_count": 3,
   "metadata": {},
   "outputs": [
    {
     "data": {
      "image/png": "[encoded data removed]",
      "text/plain": [
       "<Figure size 576x576 with 1 Axes>"
      ]
     },
     "metadata": {
      "needs_background": "light"
     },
     "output_type": "display_data"
    }
   ],
   "source": [
    "x0 = x[label == 0]\n",
    "y0 = y[label == 0]\n",
    "x1 = x[label == 1]\n",
    "y1 = y[label == 1]\n",
    "\n",
    "plt.figure(figsize=(8,8))   \n",
    "plt.plot(x0, y0, '.', color='blue', label='out-class (0)')\n",
    "plt.plot(x1, y1, '.', color='red', label='in-class (1)')\n",
    "plt.xlim(0, 50)\n",
    "plt.ylim(0, 50)\n",
    "plt.legend()\n",
    "plt.tight_layout()\n",
    "plt.show()"
   ]
  },
  {
   "cell_type": "code",
   "execution_count": 4,
   "metadata": {},
   "outputs": [],
   "source": [
    "theta1  = 0.1\n",
    "pred1   = util.compute_prediction(x, y, theta1)\n",
    "fp1     = util.compute_false_positive(label, pred1)\n",
    "tp1     = util.compute_true_positive(label, pred1)"
   ]
  },
  {
   "cell_type": "code",
   "execution_count": 5,
   "metadata": {},
   "outputs": [],
   "source": [
    "def plot_01():\n",
    "    print('theta =', theta1, ', fp =', fp1, ', tp =', tp1)"
   ]
  },
  {
   "cell_type": "code",
   "execution_count": 6,
   "metadata": {},
   "outputs": [
    {
     "name": "stdout",
     "output_type": "stream",
     "text": [
      "theta = 0.1 , fp = 0.0 , tp = 0.0\n"
     ]
    }
   ],
   "source": [
    "plot_01()"
   ]
  },
  {
   "cell_type": "code",
   "execution_count": 7,
   "metadata": {},
   "outputs": [],
   "source": [
    "theta2  = 1\n",
    "pred2   = util.compute_prediction(x, y, theta2)\n",
    "fp2     = util.compute_false_positive(label, pred2)\n",
    "tp2     = util.compute_true_positive(label, pred2)"
   ]
  },
  {
   "cell_type": "code",
   "execution_count": 8,
   "metadata": {},
   "outputs": [],
   "source": [
    "def plot_02():\n",
    "    print('theta =', theta2, ', fp =', fp2, ', tp =', tp2)"
   ]
  },
  {
   "cell_type": "code",
   "execution_count": 9,
   "metadata": {},
   "outputs": [
    {
     "name": "stdout",
     "output_type": "stream",
     "text": [
      "theta = 1 , fp = 0.07666666666666666 , tp = 0.7366666666666667\n"
     ]
    }
   ],
   "source": [
    "plot_02()"
   ]
  },
  {
   "cell_type": "code",
   "execution_count": 10,
   "metadata": {},
   "outputs": [],
   "source": [
    "theta3  = 100\n",
    "pred3   = util.compute_prediction(x, y, theta3)\n",
    "fp3     = util.compute_false_positive(label, pred3)\n",
    "tp3     = util.compute_true_positive(label, pred3)"
   ]
  },
  {
   "cell_type": "code",
   "execution_count": 11,
   "metadata": {},
   "outputs": [],
   "source": [
    "def plot_03():\n",
    "    print('theta =', theta3, ', fp =', fp3, ', tp =', tp3)"
   ]
  },
  {
   "cell_type": "code",
   "execution_count": 12,
   "metadata": {},
   "outputs": [
    {
     "name": "stdout",
     "output_type": "stream",
     "text": [
      "theta = 100 , fp = 1.0 , tp = 1.0\n"
     ]
    }
   ],
   "source": [
    "plot_03()"
   ]
  },
  {
   "cell_type": "code",
   "execution_count": 13,
   "metadata": {},
   "outputs": [],
   "source": [
    "tp_list = []\n",
    "fp_list = []\n",
    "\n",
    "for theta in np.arange(0.1, 100, 0.01):\n",
    "    pred    = util.compute_prediction(x, y, theta)\n",
    "    fp      = util.compute_false_positive(label, pred)\n",
    "    tp      = util.compute_true_positive(label, pred)\n",
    "    tp_list.append(tp.item())\n",
    "    fp_list.append(fp.item())"
   ]
  },
  {
   "cell_type": "code",
   "execution_count": 14,
   "metadata": {},
   "outputs": [],
   "source": [
    "def plot_04():\n",
    "    plt.figure(figsize=(8,8))   \n",
    "    plt.plot(fp_list, tp_list, '.', color='red')\n",
    "    plt.xlabel('false positive')\n",
    "    plt.ylabel('true positive')\n",
    "    plt.axis('equal')\n",
    "    plt.tight_layout()\n",
    "    plt.show()"
   ]
  },
  {
   "cell_type": "code",
   "execution_count": 15,
   "metadata": {},
   "outputs": [
    {
     "data": {
      "image/png": "[encoded data removed]",
      "text/plain": [
       "<Figure size 576x576 with 1 Axes>"
      ]
     },
     "metadata": {
      "needs_background": "light"
     },
     "output_type": "display_data"
    }
   ],
   "source": [
    "plot_04()"
   ]
  },
  {
   "cell_type": "markdown",
   "metadata": {},
   "source": [
    "---\n",
    "---"
   ]
  },
  {
   "cell_type": "markdown",
   "metadata": {},
   "source": [
    "# results"
   ]
  },
  {
   "cell_type": "markdown",
   "metadata": {},
   "source": [
    "---\n",
    "---"
   ]
  },
  {
   "cell_type": "code",
   "execution_count": 16,
   "metadata": {},
   "outputs": [
    {
     "name": "stdout",
     "output_type": "stream",
     "text": [
      "\n",
      "################################################################################\n",
      "# RESULT # 01\n",
      "################################################################################\n",
      "\n",
      "theta = 0.1 , fp = 0.0 , tp = 0.0\n",
      "\n",
      "################################################################################\n",
      "# RESULT # 02\n",
      "################################################################################\n",
      "\n",
      "theta = 1 , fp = 0.07666666666666666 , tp = 0.7366666666666667\n",
      "\n",
      "################################################################################\n",
      "# RESULT # 03\n",
      "################################################################################\n",
      "\n",
      "theta = 100 , fp = 1.0 , tp = 1.0\n",
      "\n",
      "################################################################################\n",
      "# RESULT # 04\n",
      "################################################################################\n",
      "\n"
     ]
    },
    {
     "data": {
      "image/png": "[encoded data removed]",
      "text/plain": [
       "<Figure size 576x576 with 1 Axes>"
      ]
     },
     "metadata": {
      "needs_background": "light"
     },
     "output_type": "display_data"
    }
   ],
   "source": [
    "number_result = 4\n",
    "\n",
    "for i in range(number_result):\n",
    "    title           = '# RESULT # {:02d}'.format(i+1)\n",
    "    name_function   = 'plot_{:02d}()'.format(i+1)\n",
    "\n",
    "    print('')\n",
    "    print('################################################################################')\n",
    "    print(title)\n",
    "    print('################################################################################')\n",
    "    print('') \n",
    "\n",
    "    eval(name_function)"
   ]
  }
 ],
 "metadata": {
  "kernelspec": {
   "display_name": "base",
   "language": "python",
   "name": "python3"
  },
  "language_info": {
   "codemirror_mode": {
    "name": "ipython",
    "version": 3
   },
   "file_extension": ".py",
   "mimetype": "text/x-python",
   "name": "python",
   "nbconvert_exporter": "python",
   "pygments_lexer": "ipython3",
   "version": "3.8.8"
  },
  "metadata": {
   "interpreter": {
    "hash": "31f2aee4e71d21fbe5cf8b01ff0e069b9275f58929596ceb00d14d90e3e16cd6"
   }
  }
 },
 "nbformat": 4,
 "nbformat_minor": 2
}
